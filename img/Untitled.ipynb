{
 "cells": [
  {
   "cell_type": "code",
   "execution_count": 2,
   "id": "9b4145e6-5210-4e0d-ba12-570fd541754e",
   "metadata": {
    "tags": []
   },
   "outputs": [
    {
     "name": "stdout",
     "output_type": "stream",
     "text": [
      "Thu Aug 24 14:36:08 2023       \n",
      "+---------------------------------------------------------------------------------------+\n",
      "| NVIDIA-SMI 536.67                 Driver Version: 536.67       CUDA Version: 12.2     |\n",
      "|-----------------------------------------+----------------------+----------------------+\n",
      "| GPU  Name                     TCC/WDDM  | Bus-Id        Disp.A | Volatile Uncorr. ECC |\n",
      "| Fan  Temp   Perf          Pwr:Usage/Cap |         Memory-Usage | GPU-Util  Compute M. |\n",
      "|                                         |                      |               MIG M. |\n",
      "|=========================================+======================+======================|\n",
      "|   0  NVIDIA GeForce RTX 3060      WDDM  | 00000000:61:00.0  On |                  N/A |\n",
      "|  0%   51C    P2              44W / 170W |   1635MiB / 12288MiB |      0%      Default |\n",
      "|                                         |                      |                  N/A |\n",
      "+-----------------------------------------+----------------------+----------------------+\n",
      "                                                                                         \n",
      "+---------------------------------------------------------------------------------------+\n",
      "| Processes:                                                                            |\n",
      "|  GPU   GI   CI        PID   Type   Process name                            GPU Memory |\n",
      "|        ID   ID                                                             Usage      |\n",
      "|=======================================================================================|\n",
      "|    0   N/A  N/A      2356    C+G   ...n\\AppData\\Roaming\\Zoom\\bin\\Zoom.exe    N/A      |\n",
      "|    0   N/A  N/A      4368    C+G   C:\\blp\\Wintrv\\blpwtk2_subprocess.exe      N/A      |\n",
      "|    0   N/A  N/A      9188    C+G   ...t.LockApp_cw5n1h2txyewy\\LockApp.exe    N/A      |\n",
      "|    0   N/A  N/A      9340    C+G   ...n\\115.0.1901.203\\msedgewebview2.exe    N/A      |\n",
      "|    0   N/A  N/A      9724    C+G   C:\\Windows\\System32\\Taskmgr.exe           N/A      |\n",
      "|    0   N/A  N/A     10552    C+G   ...ne\\Binaries\\Win64\\EpicWebHelper.exe    N/A      |\n",
      "|    0   N/A  N/A     10980    C+G   C:\\blp\\Wintrv\\blpwtk2_subprocess.exe      N/A      |\n",
      "|    0   N/A  N/A     13328    C+G   ...n\\115.0.1901.203\\msedgewebview2.exe    N/A      |\n",
      "|    0   N/A  N/A     14384    C+G   ...inaries\\Win64\\EpicGamesLauncher.exe    N/A      |\n",
      "|    0   N/A  N/A     15032    C+G   ...p\\Wintrv\\x64\\blpwtk2_subprocess.exe    N/A      |\n",
      "|    0   N/A  N/A     16548    C+G   ...soft Office\\root\\Office16\\EXCEL.EXE    N/A      |\n",
      "|    0   N/A  N/A     18812    C+G   ...siveControlPanel\\SystemSettings.exe    N/A      |\n",
      "|    0   N/A  N/A     19076    C+G   ...6740_x64__8wekyb3d8bbwe\\msteams.exe    N/A      |\n",
      "|    0   N/A  N/A     23616    C+G   ...2txyewy\\StartMenuExperienceHost.exe    N/A      |\n",
      "|    0   N/A  N/A     24248    C+G   ...oogle\\Chrome\\Application\\chrome.exe    N/A      |\n",
      "|    0   N/A  N/A     24480    C+G   ...nt.CBS_cw5n1h2txyewy\\SearchHost.exe    N/A      |\n",
      "|    0   N/A  N/A     24924    C+G   C:\\blp\\Wintrv\\blpwtk2_subprocess.exe      N/A      |\n",
      "|    0   N/A  N/A     27580    C+G   ...CBS_cw5n1h2txyewy\\TextInputHost.exe    N/A      |\n",
      "|    0   N/A  N/A     28604    C+G   ...\\cef\\cef.win7x64\\steamwebhelper.exe    N/A      |\n",
      "|    0   N/A  N/A     29476    C+G   C:\\blp\\Wintrv\\blpwtk2_subprocess.exe      N/A      |\n",
      "|    0   N/A  N/A     29920    C+G   ...aam7r\\AcrobatNotificationClient.exe    N/A      |\n",
      "|    0   N/A  N/A     30288    C+G   ...n\\115.0.1901.203\\msedgewebview2.exe    N/A      |\n",
      "|    0   N/A  N/A     30348    C+G   ...ejd91yc\\AdobeNotificationClient.exe    N/A      |\n",
      "|    0   N/A  N/A     30408    C+G   ...ekyb3d8bbwe\\PhoneExperienceHost.exe    N/A      |\n",
      "|    0   N/A  N/A     32868    C+G   ...cal\\Microsoft\\OneDrive\\OneDrive.exe    N/A      |\n",
      "|    0   N/A  N/A     33112      C   ...ta\\anaconda3\\envs\\blpapi\\python.exe    N/A      |\n",
      "|    0   N/A  N/A     33420    C+G   ...__8wekyb3d8bbwe\\Notepad\\Notepad.exe    N/A      |\n",
      "|    0   N/A  N/A     34964    C+G   C:\\Windows\\System32\\dwm.exe               N/A      |\n",
      "|    0   N/A  N/A     36940    C+G   C:\\Windows\\explorer.exe                   N/A      |\n",
      "|    0   N/A  N/A     37756    C+G   ...n\\115.0.1901.203\\msedgewebview2.exe    N/A      |\n",
      "|    0   N/A  N/A     39544    C+G   ...crosoft\\Edge\\Application\\msedge.exe    N/A      |\n",
      "|    0   N/A  N/A     39836    C+G   ...5n1h2txyewy\\ShellExperienceHost.exe    N/A      |\n",
      "+---------------------------------------------------------------------------------------+\n"
     ]
    }
   ],
   "source": [
    "!nvidia-smi"
   ]
  },
  {
   "cell_type": "code",
   "execution_count": null,
   "id": "128684f0-279a-45e4-bc45-e7001f4b7f53",
   "metadata": {},
   "outputs": [],
   "source": []
  }
 ],
 "metadata": {
  "kernelspec": {
   "display_name": "blpapi",
   "language": "python",
   "name": "blpapi"
  },
  "language_info": {
   "codemirror_mode": {
    "name": "ipython",
    "version": 3
   },
   "file_extension": ".py",
   "mimetype": "text/x-python",
   "name": "python",
   "nbconvert_exporter": "python",
   "pygments_lexer": "ipython3",
   "version": "3.11.4"
  }
 },
 "nbformat": 4,
 "nbformat_minor": 5
}
