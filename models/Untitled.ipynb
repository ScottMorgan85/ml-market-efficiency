{
 "cells": [
  {
   "cell_type": "code",
   "execution_count": 1,
   "id": "fef287d6-f605-4f49-b1d1-032fca150de1",
   "metadata": {
    "tags": []
   },
   "outputs": [],
   "source": [
    "import pygdelt\n"
   ]
  },
  {
   "cell_type": "code",
   "execution_count": 2,
   "id": "9f499f88-5898-4cac-8274-9489d4702053",
   "metadata": {
    "tags": []
   },
   "outputs": [
    {
     "ename": "AttributeError",
     "evalue": "module 'pygdelt' has no attribute 'pyGDELT'",
     "output_type": "error",
     "traceback": [
      "\u001b[1;31m---------------------------------------------------------------------------\u001b[0m",
      "\u001b[1;31mAttributeError\u001b[0m                            Traceback (most recent call last)",
      "Cell \u001b[1;32mIn[2], line 1\u001b[0m\n\u001b[1;32m----> 1\u001b[0m gd2 \u001b[38;5;241m=\u001b[39m \u001b[43mpygdelt\u001b[49m\u001b[38;5;241;43m.\u001b[39;49m\u001b[43mpyGDELT\u001b[49m(version\u001b[38;5;241m=\u001b[39m\u001b[38;5;241m2\u001b[39m)\n\u001b[0;32m      2\u001b[0m results \u001b[38;5;241m=\u001b[39m gd2\u001b[38;5;241m.\u001b[39mSearch([\u001b[38;5;124m'\u001b[39m\u001b[38;5;124m2016 11 01\u001b[39m\u001b[38;5;124m'\u001b[39m], table\u001b[38;5;241m=\u001b[39m\u001b[38;5;124m'\u001b[39m\u001b[38;5;124mevents\u001b[39m\u001b[38;5;124m'\u001b[39m, coverage\u001b[38;5;241m=\u001b[39m\u001b[38;5;28;01mTrue\u001b[39;00m)\n\u001b[0;32m      3\u001b[0m \u001b[38;5;28mprint\u001b[39m(results\u001b[38;5;241m.\u001b[39mhead())\n",
      "\u001b[1;31mAttributeError\u001b[0m: module 'pygdelt' has no attribute 'pyGDELT'"
     ]
    }
   ],
   "source": [
    "gd2 = pygdelt.pyGDELT(version=2)\n",
    "results = gd2.Search(['2016 11 01'], table='events', coverage=True)\n",
    "print(results.head())"
   ]
  },
  {
   "cell_type": "code",
   "execution_count": 4,
   "id": "3f20aa62-f756-44e9-a689-846ea275ef82",
   "metadata": {
    "tags": []
   },
   "outputs": [
    {
     "name": "stdout",
     "output_type": "stream",
     "text": [
      "Processing c:\\users\\scott morgan\\onedrive\\1_professional_info\\projects\\ml-market-efficiency\\models\\gydelt-1.0-py2.py3-none-any.whl\n"
     ]
    },
    {
     "name": "stderr",
     "output_type": "stream",
     "text": [
      "WARNING: Skipping C:\\ProgramData\\anaconda3\\envs\\blpapi\\Lib\\site-packages\\numpy-1.25.2.dist-info due to invalid metadata entry 'name'\n",
      "WARNING: Requirement 'gydelt-1.0-py2.py3-none-any.whl' looks like a filename, but the file does not exist\n",
      "WARNING: Skipping C:\\ProgramData\\anaconda3\\envs\\blpapi\\Lib\\site-packages\\numpy-1.25.2.dist-info due to invalid metadata entry 'name'\n",
      "ERROR: Could not install packages due to an OSError: [Errno 2] No such file or directory: 'C:\\\\Users\\\\Scott Morgan\\\\OneDrive\\\\1_Professional_Info\\\\Projects\\\\ml-market-efficiency\\\\models\\\\gydelt-1.0-py2.py3-none-any.whl'\n",
      "\n",
      "WARNING: Skipping C:\\ProgramData\\anaconda3\\envs\\blpapi\\Lib\\site-packages\\numpy-1.25.2.dist-info due to invalid metadata entry 'name'\n",
      "WARNING: Skipping C:\\ProgramData\\anaconda3\\envs\\blpapi\\Lib\\site-packages\\numpy-1.25.2.dist-info due to invalid metadata entry 'name'\n",
      "WARNING: Skipping C:\\ProgramData\\anaconda3\\envs\\blpapi\\Lib\\site-packages\\numpy-1.25.2.dist-info due to invalid metadata entry 'name'\n"
     ]
    }
   ],
   "source": [
    "!pip install gydelt-1.0-py2.py3-none-any.whl"
   ]
  },
  {
   "cell_type": "code",
   "execution_count": null,
   "id": "0100d837-4a85-48ad-a273-894454c5e0b5",
   "metadata": {},
   "outputs": [],
   "source": []
  },
  {
   "cell_type": "code",
   "execution_count": null,
   "id": "e495159d-cc2b-41d0-a38d-06e933fcbcc6",
   "metadata": {},
   "outputs": [],
   "source": []
  },
  {
   "cell_type": "code",
   "execution_count": null,
   "id": "40c0012c-2bf6-4690-be70-f8a71defa479",
   "metadata": {},
   "outputs": [],
   "source": []
  },
  {
   "cell_type": "code",
   "execution_count": null,
   "id": "92ba3197-d0c9-4e77-bad7-ffd175adf559",
   "metadata": {},
   "outputs": [],
   "source": []
  },
  {
   "cell_type": "code",
   "execution_count": null,
   "id": "2343f1b4-954b-4b86-b9df-4ca5b2971531",
   "metadata": {},
   "outputs": [],
   "source": []
  }
 ],
 "metadata": {
  "kernelspec": {
   "display_name": "Python 3 (ipykernel)",
   "language": "python",
   "name": "python3"
  },
  "language_info": {
   "codemirror_mode": {
    "name": "ipython",
    "version": 3
   },
   "file_extension": ".py",
   "mimetype": "text/x-python",
   "name": "python",
   "nbconvert_exporter": "python",
   "pygments_lexer": "ipython3",
   "version": "3.11.4"
  }
 },
 "nbformat": 4,
 "nbformat_minor": 5
}
