{
 "cells": [
  {
   "cell_type": "code",
   "execution_count": null,
   "id": "aff980b8-880e-4468-81e9-3bc49b60a519",
   "metadata": {
    "tags": []
   },
   "outputs": [],
   "source": [
    "!pip install nodejs"
   ]
  },
  {
   "cell_type": "code",
   "execution_count": 2,
   "id": "a2c396b6-820d-4084-9425-a477a0cf6bcd",
   "metadata": {
    "tags": []
   },
   "outputs": [
    {
     "name": "stdout",
     "output_type": "stream",
     "text": [
      "Collecting jupyterlab_github\n",
      "  Obtaining dependency information for jupyterlab_github from https://files.pythonhosted.org/packages/40/e8/c5f6e0cf98b26d220db468c079ed7ad4e58ac232920c186cee484148c8af/jupyterlab_github-4.0.0-py3-none-any.whl.metadata\n",
      "  Using cached jupyterlab_github-4.0.0-py3-none-any.whl.metadata (10 kB)\n",
      "Collecting jupyterlab<5,>=4.0.0 (from jupyterlab_github)\n",
      "  Obtaining dependency information for jupyterlab<5,>=4.0.0 from https://files.pythonhosted.org/packages/71/a3/38b9d6492a393dcfdae9e82021655432a9fd6e8f4c03c30a7b55036c0d70/jupyterlab-4.0.5-py3-none-any.whl.metadata\n",
      "  Using cached jupyterlab-4.0.5-py3-none-any.whl.metadata (15 kB)\n",
      "Requirement already satisfied: async-lru>=1.0.0 in c:\\programdata\\anaconda3\\lib\\site-packages (from jupyterlab<5,>=4.0.0->jupyterlab_github) (2.0.4)\n",
      "Requirement already satisfied: ipykernel in c:\\users\\scott morgan\\appdata\\roaming\\python\\python311\\site-packages (from jupyterlab<5,>=4.0.0->jupyterlab_github) (6.25.1)\n",
      "Requirement already satisfied: jinja2>=3.0.3 in c:\\programdata\\anaconda3\\lib\\site-packages (from jupyterlab<5,>=4.0.0->jupyterlab_github) (3.1.2)\n",
      "Requirement already satisfied: jupyter-core in c:\\users\\scott morgan\\appdata\\roaming\\python\\python311\\site-packages (from jupyterlab<5,>=4.0.0->jupyterlab_github) (5.3.1)\n",
      "Requirement already satisfied: jupyter-lsp>=2.0.0 in c:\\programdata\\anaconda3\\lib\\site-packages (from jupyterlab<5,>=4.0.0->jupyterlab_github) (2.2.0)\n",
      "Requirement already satisfied: jupyter-server<3,>=2.4.0 in c:\\programdata\\anaconda3\\lib\\site-packages (from jupyterlab<5,>=4.0.0->jupyterlab_github) (2.7.3)\n",
      "Requirement already satisfied: jupyterlab-server<3,>=2.19.0 in c:\\programdata\\anaconda3\\lib\\site-packages (from jupyterlab<5,>=4.0.0->jupyterlab_github) (2.22.0)\n",
      "Requirement already satisfied: notebook-shim>=0.2 in c:\\programdata\\anaconda3\\lib\\site-packages (from jupyterlab<5,>=4.0.0->jupyterlab_github) (0.2.2)\n",
      "Requirement already satisfied: packaging in c:\\users\\scott morgan\\appdata\\roaming\\python\\python311\\site-packages (from jupyterlab<5,>=4.0.0->jupyterlab_github) (23.1)\n",
      "Requirement already satisfied: tornado>=6.2.0 in c:\\users\\scott morgan\\appdata\\roaming\\python\\python311\\site-packages (from jupyterlab<5,>=4.0.0->jupyterlab_github) (6.3.3)\n",
      "Requirement already satisfied: traitlets in c:\\users\\scott morgan\\appdata\\roaming\\python\\python311\\site-packages (from jupyterlab<5,>=4.0.0->jupyterlab_github) (5.9.0)\n",
      "Requirement already satisfied: MarkupSafe>=2.0 in c:\\programdata\\anaconda3\\lib\\site-packages (from jinja2>=3.0.3->jupyterlab<5,>=4.0.0->jupyterlab_github) (2.1.1)\n",
      "Requirement already satisfied: anyio>=3.1.0 in c:\\users\\scott morgan\\appdata\\roaming\\python\\python311\\site-packages (from jupyter-server<3,>=2.4.0->jupyterlab<5,>=4.0.0->jupyterlab_github) (3.7.1)\n",
      "Requirement already satisfied: argon2-cffi in c:\\programdata\\anaconda3\\lib\\site-packages (from jupyter-server<3,>=2.4.0->jupyterlab<5,>=4.0.0->jupyterlab_github) (21.3.0)\n",
      "Requirement already satisfied: jupyter-client>=7.4.4 in c:\\users\\scott morgan\\appdata\\roaming\\python\\python311\\site-packages (from jupyter-server<3,>=2.4.0->jupyterlab<5,>=4.0.0->jupyterlab_github) (8.3.0)\n",
      "Requirement already satisfied: jupyter-events>=0.6.0 in c:\\programdata\\anaconda3\\lib\\site-packages (from jupyter-server<3,>=2.4.0->jupyterlab<5,>=4.0.0->jupyterlab_github) (0.6.3)\n",
      "Requirement already satisfied: jupyter-server-terminals in c:\\programdata\\anaconda3\\lib\\site-packages (from jupyter-server<3,>=2.4.0->jupyterlab<5,>=4.0.0->jupyterlab_github) (0.4.4)\n",
      "Requirement already satisfied: nbconvert>=6.4.4 in c:\\programdata\\anaconda3\\lib\\site-packages (from jupyter-server<3,>=2.4.0->jupyterlab<5,>=4.0.0->jupyterlab_github) (6.5.4)\n",
      "Requirement already satisfied: nbformat>=5.3.0 in c:\\programdata\\anaconda3\\lib\\site-packages (from jupyter-server<3,>=2.4.0->jupyterlab<5,>=4.0.0->jupyterlab_github) (5.7.0)\n",
      "Requirement already satisfied: overrides in c:\\programdata\\anaconda3\\lib\\site-packages (from jupyter-server<3,>=2.4.0->jupyterlab<5,>=4.0.0->jupyterlab_github) (7.4.0)\n",
      "Requirement already satisfied: prometheus-client in c:\\programdata\\anaconda3\\lib\\site-packages (from jupyter-server<3,>=2.4.0->jupyterlab<5,>=4.0.0->jupyterlab_github) (0.14.1)\n",
      "Requirement already satisfied: pywinpty in c:\\programdata\\anaconda3\\lib\\site-packages (from jupyter-server<3,>=2.4.0->jupyterlab<5,>=4.0.0->jupyterlab_github) (2.0.10)\n",
      "Requirement already satisfied: pyzmq>=24 in c:\\users\\scott morgan\\appdata\\roaming\\python\\python311\\site-packages (from jupyter-server<3,>=2.4.0->jupyterlab<5,>=4.0.0->jupyterlab_github) (25.1.1)\n",
      "Requirement already satisfied: send2trash>=1.8.2 in c:\\programdata\\anaconda3\\lib\\site-packages (from jupyter-server<3,>=2.4.0->jupyterlab<5,>=4.0.0->jupyterlab_github) (1.8.2)\n",
      "Requirement already satisfied: terminado>=0.8.3 in c:\\programdata\\anaconda3\\lib\\site-packages (from jupyter-server<3,>=2.4.0->jupyterlab<5,>=4.0.0->jupyterlab_github) (0.17.1)\n",
      "Requirement already satisfied: websocket-client in c:\\programdata\\anaconda3\\lib\\site-packages (from jupyter-server<3,>=2.4.0->jupyterlab<5,>=4.0.0->jupyterlab_github) (0.58.0)\n",
      "Requirement already satisfied: platformdirs>=2.5 in c:\\users\\scott morgan\\appdata\\roaming\\python\\python311\\site-packages (from jupyter-core->jupyterlab<5,>=4.0.0->jupyterlab_github) (3.10.0)\n",
      "Requirement already satisfied: pywin32>=300 in c:\\users\\scott morgan\\appdata\\roaming\\python\\python311\\site-packages (from jupyter-core->jupyterlab<5,>=4.0.0->jupyterlab_github) (306)\n",
      "Requirement already satisfied: babel>=2.10 in c:\\programdata\\anaconda3\\lib\\site-packages (from jupyterlab-server<3,>=2.19.0->jupyterlab<5,>=4.0.0->jupyterlab_github) (2.11.0)\n",
      "Requirement already satisfied: json5>=0.9.0 in c:\\programdata\\anaconda3\\lib\\site-packages (from jupyterlab-server<3,>=2.19.0->jupyterlab<5,>=4.0.0->jupyterlab_github) (0.9.6)\n",
      "Requirement already satisfied: jsonschema>=4.17.3 in c:\\programdata\\anaconda3\\lib\\site-packages (from jupyterlab-server<3,>=2.19.0->jupyterlab<5,>=4.0.0->jupyterlab_github) (4.17.3)\n",
      "Requirement already satisfied: requests>=2.28 in c:\\programdata\\anaconda3\\lib\\site-packages (from jupyterlab-server<3,>=2.19.0->jupyterlab<5,>=4.0.0->jupyterlab_github) (2.31.0)\n",
      "Requirement already satisfied: comm>=0.1.1 in c:\\users\\scott morgan\\appdata\\roaming\\python\\python311\\site-packages (from ipykernel->jupyterlab<5,>=4.0.0->jupyterlab_github) (0.1.4)\n",
      "Requirement already satisfied: debugpy>=1.6.5 in c:\\users\\scott morgan\\appdata\\roaming\\python\\python311\\site-packages (from ipykernel->jupyterlab<5,>=4.0.0->jupyterlab_github) (1.6.7.post1)\n",
      "Requirement already satisfied: ipython>=7.23.1 in c:\\users\\scott morgan\\appdata\\roaming\\python\\python311\\site-packages (from ipykernel->jupyterlab<5,>=4.0.0->jupyterlab_github) (8.14.0)\n",
      "Requirement already satisfied: matplotlib-inline>=0.1 in c:\\users\\scott morgan\\appdata\\roaming\\python\\python311\\site-packages (from ipykernel->jupyterlab<5,>=4.0.0->jupyterlab_github) (0.1.6)\n",
      "Requirement already satisfied: nest-asyncio in c:\\users\\scott morgan\\appdata\\roaming\\python\\python311\\site-packages (from ipykernel->jupyterlab<5,>=4.0.0->jupyterlab_github) (1.5.7)\n",
      "Requirement already satisfied: psutil in c:\\users\\scott morgan\\appdata\\roaming\\python\\python311\\site-packages (from ipykernel->jupyterlab<5,>=4.0.0->jupyterlab_github) (5.9.5)\n",
      "Requirement already satisfied: idna>=2.8 in c:\\programdata\\anaconda3\\lib\\site-packages (from anyio>=3.1.0->jupyter-server<3,>=2.4.0->jupyterlab<5,>=4.0.0->jupyterlab_github) (3.4)\n",
      "Requirement already satisfied: sniffio>=1.1 in c:\\programdata\\anaconda3\\lib\\site-packages (from anyio>=3.1.0->jupyter-server<3,>=2.4.0->jupyterlab<5,>=4.0.0->jupyterlab_github) (1.2.0)\n",
      "Requirement already satisfied: pytz>=2015.7 in c:\\programdata\\anaconda3\\lib\\site-packages (from babel>=2.10->jupyterlab-server<3,>=2.19.0->jupyterlab<5,>=4.0.0->jupyterlab_github) (2022.7)\n",
      "Requirement already satisfied: backcall in c:\\users\\scott morgan\\appdata\\roaming\\python\\python311\\site-packages (from ipython>=7.23.1->ipykernel->jupyterlab<5,>=4.0.0->jupyterlab_github) (0.2.0)\n",
      "Requirement already satisfied: decorator in c:\\users\\scott morgan\\appdata\\roaming\\python\\python311\\site-packages (from ipython>=7.23.1->ipykernel->jupyterlab<5,>=4.0.0->jupyterlab_github) (5.1.1)\n",
      "Requirement already satisfied: jedi>=0.16 in c:\\users\\scott morgan\\appdata\\roaming\\python\\python311\\site-packages (from ipython>=7.23.1->ipykernel->jupyterlab<5,>=4.0.0->jupyterlab_github) (0.19.0)\n",
      "Requirement already satisfied: pickleshare in c:\\users\\scott morgan\\appdata\\roaming\\python\\python311\\site-packages (from ipython>=7.23.1->ipykernel->jupyterlab<5,>=4.0.0->jupyterlab_github) (0.7.5)\n",
      "Requirement already satisfied: prompt-toolkit!=3.0.37,<3.1.0,>=3.0.30 in c:\\users\\scott morgan\\appdata\\roaming\\python\\python311\\site-packages (from ipython>=7.23.1->ipykernel->jupyterlab<5,>=4.0.0->jupyterlab_github) (3.0.39)\n",
      "Requirement already satisfied: pygments>=2.4.0 in c:\\users\\scott morgan\\appdata\\roaming\\python\\python311\\site-packages (from ipython>=7.23.1->ipykernel->jupyterlab<5,>=4.0.0->jupyterlab_github) (2.16.1)\n",
      "Requirement already satisfied: stack-data in c:\\users\\scott morgan\\appdata\\roaming\\python\\python311\\site-packages (from ipython>=7.23.1->ipykernel->jupyterlab<5,>=4.0.0->jupyterlab_github) (0.6.2)\n",
      "Requirement already satisfied: colorama in c:\\users\\scott morgan\\appdata\\roaming\\python\\python311\\site-packages (from ipython>=7.23.1->ipykernel->jupyterlab<5,>=4.0.0->jupyterlab_github) (0.4.6)\n",
      "Requirement already satisfied: attrs>=17.4.0 in c:\\programdata\\anaconda3\\lib\\site-packages (from jsonschema>=4.17.3->jupyterlab-server<3,>=2.19.0->jupyterlab<5,>=4.0.0->jupyterlab_github) (22.1.0)\n",
      "Requirement already satisfied: pyrsistent!=0.17.0,!=0.17.1,!=0.17.2,>=0.14.0 in c:\\programdata\\anaconda3\\lib\\site-packages (from jsonschema>=4.17.3->jupyterlab-server<3,>=2.19.0->jupyterlab<5,>=4.0.0->jupyterlab_github) (0.18.0)\n",
      "Requirement already satisfied: python-dateutil>=2.8.2 in c:\\users\\scott morgan\\appdata\\roaming\\python\\python311\\site-packages (from jupyter-client>=7.4.4->jupyter-server<3,>=2.4.0->jupyterlab<5,>=4.0.0->jupyterlab_github) (2.8.2)\n",
      "Requirement already satisfied: python-json-logger>=2.0.4 in c:\\programdata\\anaconda3\\lib\\site-packages (from jupyter-events>=0.6.0->jupyter-server<3,>=2.4.0->jupyterlab<5,>=4.0.0->jupyterlab_github) (2.0.7)\n",
      "Requirement already satisfied: pyyaml>=5.3 in c:\\programdata\\anaconda3\\lib\\site-packages (from jupyter-events>=0.6.0->jupyter-server<3,>=2.4.0->jupyterlab<5,>=4.0.0->jupyterlab_github) (6.0)\n",
      "Requirement already satisfied: rfc3339-validator in c:\\programdata\\anaconda3\\lib\\site-packages (from jupyter-events>=0.6.0->jupyter-server<3,>=2.4.0->jupyterlab<5,>=4.0.0->jupyterlab_github) (0.1.4)\n",
      "Requirement already satisfied: rfc3986-validator>=0.1.1 in c:\\programdata\\anaconda3\\lib\\site-packages (from jupyter-events>=0.6.0->jupyter-server<3,>=2.4.0->jupyterlab<5,>=4.0.0->jupyterlab_github) (0.1.1)\n",
      "Requirement already satisfied: lxml in c:\\programdata\\anaconda3\\lib\\site-packages (from nbconvert>=6.4.4->jupyter-server<3,>=2.4.0->jupyterlab<5,>=4.0.0->jupyterlab_github) (4.9.2)\n",
      "Requirement already satisfied: beautifulsoup4 in c:\\programdata\\anaconda3\\lib\\site-packages (from nbconvert>=6.4.4->jupyter-server<3,>=2.4.0->jupyterlab<5,>=4.0.0->jupyterlab_github) (4.12.2)\n",
      "Requirement already satisfied: bleach in c:\\programdata\\anaconda3\\lib\\site-packages (from nbconvert>=6.4.4->jupyter-server<3,>=2.4.0->jupyterlab<5,>=4.0.0->jupyterlab_github) (4.1.0)\n",
      "Requirement already satisfied: defusedxml in c:\\programdata\\anaconda3\\lib\\site-packages (from nbconvert>=6.4.4->jupyter-server<3,>=2.4.0->jupyterlab<5,>=4.0.0->jupyterlab_github) (0.7.1)\n",
      "Requirement already satisfied: entrypoints>=0.2.2 in c:\\programdata\\anaconda3\\lib\\site-packages (from nbconvert>=6.4.4->jupyter-server<3,>=2.4.0->jupyterlab<5,>=4.0.0->jupyterlab_github) (0.4)\n",
      "Requirement already satisfied: jupyterlab-pygments in c:\\programdata\\anaconda3\\lib\\site-packages (from nbconvert>=6.4.4->jupyter-server<3,>=2.4.0->jupyterlab<5,>=4.0.0->jupyterlab_github) (0.1.2)\n",
      "Requirement already satisfied: mistune<2,>=0.8.1 in c:\\programdata\\anaconda3\\lib\\site-packages (from nbconvert>=6.4.4->jupyter-server<3,>=2.4.0->jupyterlab<5,>=4.0.0->jupyterlab_github) (0.8.4)\n",
      "Requirement already satisfied: nbclient>=0.5.0 in c:\\programdata\\anaconda3\\lib\\site-packages (from nbconvert>=6.4.4->jupyter-server<3,>=2.4.0->jupyterlab<5,>=4.0.0->jupyterlab_github) (0.5.13)\n",
      "Requirement already satisfied: pandocfilters>=1.4.1 in c:\\programdata\\anaconda3\\lib\\site-packages (from nbconvert>=6.4.4->jupyter-server<3,>=2.4.0->jupyterlab<5,>=4.0.0->jupyterlab_github) (1.5.0)\n",
      "Requirement already satisfied: tinycss2 in c:\\programdata\\anaconda3\\lib\\site-packages (from nbconvert>=6.4.4->jupyter-server<3,>=2.4.0->jupyterlab<5,>=4.0.0->jupyterlab_github) (1.2.1)\n",
      "Requirement already satisfied: fastjsonschema in c:\\programdata\\anaconda3\\lib\\site-packages (from nbformat>=5.3.0->jupyter-server<3,>=2.4.0->jupyterlab<5,>=4.0.0->jupyterlab_github) (2.16.2)\n",
      "Requirement already satisfied: charset-normalizer<4,>=2 in c:\\programdata\\anaconda3\\lib\\site-packages (from requests>=2.28->jupyterlab-server<3,>=2.19.0->jupyterlab<5,>=4.0.0->jupyterlab_github) (2.0.4)\n",
      "Requirement already satisfied: urllib3<3,>=1.21.1 in c:\\programdata\\anaconda3\\lib\\site-packages (from requests>=2.28->jupyterlab-server<3,>=2.19.0->jupyterlab<5,>=4.0.0->jupyterlab_github) (1.26.16)\n",
      "Requirement already satisfied: certifi>=2017.4.17 in c:\\programdata\\anaconda3\\lib\\site-packages (from requests>=2.28->jupyterlab-server<3,>=2.19.0->jupyterlab<5,>=4.0.0->jupyterlab_github) (2023.7.22)\n",
      "Requirement already satisfied: argon2-cffi-bindings in c:\\programdata\\anaconda3\\lib\\site-packages (from argon2-cffi->jupyter-server<3,>=2.4.0->jupyterlab<5,>=4.0.0->jupyterlab_github) (21.2.0)\n",
      "Requirement already satisfied: six in c:\\users\\scott morgan\\appdata\\roaming\\python\\python311\\site-packages (from websocket-client->jupyter-server<3,>=2.4.0->jupyterlab<5,>=4.0.0->jupyterlab_github) (1.16.0)\n",
      "Requirement already satisfied: parso<0.9.0,>=0.8.3 in c:\\users\\scott morgan\\appdata\\roaming\\python\\python311\\site-packages (from jedi>=0.16->ipython>=7.23.1->ipykernel->jupyterlab<5,>=4.0.0->jupyterlab_github) (0.8.3)\n",
      "Requirement already satisfied: fqdn in c:\\programdata\\anaconda3\\lib\\site-packages (from jsonschema>=4.17.3->jupyterlab-server<3,>=2.19.0->jupyterlab<5,>=4.0.0->jupyterlab_github) (1.5.1)\n",
      "Requirement already satisfied: isoduration in c:\\programdata\\anaconda3\\lib\\site-packages (from jsonschema>=4.17.3->jupyterlab-server<3,>=2.19.0->jupyterlab<5,>=4.0.0->jupyterlab_github) (20.11.0)\n",
      "Requirement already satisfied: jsonpointer>1.13 in c:\\programdata\\anaconda3\\lib\\site-packages (from jsonschema>=4.17.3->jupyterlab-server<3,>=2.19.0->jupyterlab<5,>=4.0.0->jupyterlab_github) (2.1)\n",
      "Requirement already satisfied: uri-template in c:\\programdata\\anaconda3\\lib\\site-packages (from jsonschema>=4.17.3->jupyterlab-server<3,>=2.19.0->jupyterlab<5,>=4.0.0->jupyterlab_github) (1.3.0)\n",
      "Requirement already satisfied: webcolors>=1.11 in c:\\programdata\\anaconda3\\lib\\site-packages (from jsonschema>=4.17.3->jupyterlab-server<3,>=2.19.0->jupyterlab<5,>=4.0.0->jupyterlab_github) (1.13)\n",
      "Requirement already satisfied: wcwidth in c:\\users\\scott morgan\\appdata\\roaming\\python\\python311\\site-packages (from prompt-toolkit!=3.0.37,<3.1.0,>=3.0.30->ipython>=7.23.1->ipykernel->jupyterlab<5,>=4.0.0->jupyterlab_github) (0.2.6)\n",
      "Requirement already satisfied: cffi>=1.0.1 in c:\\programdata\\anaconda3\\lib\\site-packages (from argon2-cffi-bindings->argon2-cffi->jupyter-server<3,>=2.4.0->jupyterlab<5,>=4.0.0->jupyterlab_github) (1.15.1)\n",
      "Requirement already satisfied: soupsieve>1.2 in c:\\programdata\\anaconda3\\lib\\site-packages (from beautifulsoup4->nbconvert>=6.4.4->jupyter-server<3,>=2.4.0->jupyterlab<5,>=4.0.0->jupyterlab_github) (2.4)\n",
      "Requirement already satisfied: webencodings in c:\\programdata\\anaconda3\\lib\\site-packages (from bleach->nbconvert>=6.4.4->jupyter-server<3,>=2.4.0->jupyterlab<5,>=4.0.0->jupyterlab_github) (0.5.1)\n",
      "Requirement already satisfied: executing>=1.2.0 in c:\\users\\scott morgan\\appdata\\roaming\\python\\python311\\site-packages (from stack-data->ipython>=7.23.1->ipykernel->jupyterlab<5,>=4.0.0->jupyterlab_github) (1.2.0)\n",
      "Requirement already satisfied: asttokens>=2.1.0 in c:\\users\\scott morgan\\appdata\\roaming\\python\\python311\\site-packages (from stack-data->ipython>=7.23.1->ipykernel->jupyterlab<5,>=4.0.0->jupyterlab_github) (2.2.1)\n",
      "Requirement already satisfied: pure-eval in c:\\users\\scott morgan\\appdata\\roaming\\python\\python311\\site-packages (from stack-data->ipython>=7.23.1->ipykernel->jupyterlab<5,>=4.0.0->jupyterlab_github) (0.2.2)\n",
      "Requirement already satisfied: pycparser in c:\\programdata\\anaconda3\\lib\\site-packages (from cffi>=1.0.1->argon2-cffi-bindings->argon2-cffi->jupyter-server<3,>=2.4.0->jupyterlab<5,>=4.0.0->jupyterlab_github) (2.21)\n",
      "Requirement already satisfied: arrow>=0.15.0 in c:\\programdata\\anaconda3\\lib\\site-packages (from isoduration->jsonschema>=4.17.3->jupyterlab-server<3,>=2.19.0->jupyterlab<5,>=4.0.0->jupyterlab_github) (1.2.3)\n",
      "Using cached jupyterlab_github-4.0.0-py3-none-any.whl (28 kB)\n",
      "Using cached jupyterlab-4.0.5-py3-none-any.whl (9.2 MB)\n",
      "Installing collected packages: jupyterlab, jupyterlab_github\n",
      "  Attempting uninstall: jupyterlab\n",
      "    Found existing installation: jupyterlab 3.6.5\n",
      "    Uninstalling jupyterlab-3.6.5:\n",
      "      Successfully uninstalled jupyterlab-3.6.5\n",
      "Successfully installed jupyterlab-4.0.5 jupyterlab_github-4.0.0\n"
     ]
    },
    {
     "name": "stderr",
     "output_type": "stream",
     "text": [
      "ERROR: pip's dependency resolver does not currently take into account all the packages that are installed. This behaviour is the source of the following dependency conflicts.\n",
      "sn-jupyterlab-github 3.0.3 requires jupyterlab~=3.0, but you have jupyterlab 4.0.5 which is incompatible.\n"
     ]
    }
   ],
   "source": [
    "!pip install jupyterlab_github"
   ]
  },
  {
   "cell_type": "code",
   "execution_count": 1,
   "id": "82d84c02-b013-45a4-99ce-de1c8e2dcbfb",
   "metadata": {
    "tags": []
   },
   "outputs": [
    {
     "ename": "ModuleNotFoundError",
     "evalue": "No module named 'jupyterlab_github'",
     "output_type": "error",
     "traceback": [
      "\u001b[1;31m---------------------------------------------------------------------------\u001b[0m",
      "\u001b[1;31mModuleNotFoundError\u001b[0m                       Traceback (most recent call last)",
      "Cell \u001b[1;32mIn[1], line 1\u001b[0m\n\u001b[1;32m----> 1\u001b[0m \u001b[38;5;28;01mimport\u001b[39;00m \u001b[38;5;21;01mjupyterlab_github\u001b[39;00m\n",
      "\u001b[1;31mModuleNotFoundError\u001b[0m: No module named 'jupyterlab_github'"
     ]
    }
   ],
   "source": [
    "import jupyterlab_github"
   ]
  },
  {
   "cell_type": "code",
   "execution_count": null,
   "id": "2b3c8db5-35b2-4ca2-adcb-4174ebd6421e",
   "metadata": {
    "tags": []
   },
   "outputs": [],
   "source": [
    "!pip install sn_jupyterlab_github\n"
   ]
  }
 ],
 "metadata": {
  "kernelspec": {
   "display_name": "blpapi",
   "language": "python",
   "name": "blpapi"
  },
  "language_info": {
   "codemirror_mode": {
    "name": "ipython",
    "version": 3
   },
   "file_extension": ".py",
   "mimetype": "text/x-python",
   "name": "python",
   "nbconvert_exporter": "python",
   "pygments_lexer": "ipython3",
   "version": "3.11.4"
  }
 },
 "nbformat": 4,
 "nbformat_minor": 5
}
